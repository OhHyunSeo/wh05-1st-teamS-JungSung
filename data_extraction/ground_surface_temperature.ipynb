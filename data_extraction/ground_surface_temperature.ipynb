{
  "nbformat": 4,
  "nbformat_minor": 0,
  "metadata": {
    "colab": {
      "provenance": []
    },
    "kernelspec": {
      "name": "python3",
      "display_name": "Python 3"
    },
    "language_info": {
      "name": "python"
    }
  },
  "cells": [
    {
      "cell_type": "code",
      "execution_count": null,
      "metadata": {
        "id": "9HJE9BEbPy5_"
      },
      "outputs": [],
      "source": [
        "import urllib.request\n",
        "import csv  # csv 모듈 추가\n",
        "\n",
        "url = \"https://apihub.kma.go.kr/api/typ01/url/kma_sfctm5.php?tm1=202301010000&tm2=202302282359&obs=TS&stn=108&help=1&authKey=개인API키\"\n",
        "print(\"Requesting URL:\", url)\n",
        "\n",
        "# API 호출 및 응답 읽기\n",
        "with urllib.request.urlopen(url) as response:\n",
        "    data = response.read()\n",
        "    text = data.decode('utf-8', errors='replace')\n",
        "    print(text)\n",
        "\n",
        "# 응답 텍스트에서 데이터 행만 추출 (헤더나 주석 행 제외)\n",
        "data_rows = []\n",
        "for line in text.splitlines():\n",
        "    line = line.strip()\n",
        "    # 데이터 행은 숫자로 시작하는 행입니다.\n",
        "    if line and line[0].isdigit():\n",
        "        parts = line.split(',')\n",
        "        if len(parts) >= 6:\n",
        "            tm = parts[0].strip()     # 첫 번째 컬럼: 시간\n",
        "            val = parts[5].strip()    # 여섯 번째 컬럼: VAL (예: -4.8)\n",
        "            data_rows.append([tm, val])\n",
        "\n",
        "# 추출한 데이터를 CSV 파일로 저장\n",
        "output_filename = \"surface_temperature_2301_2302.csv\"\n",
        "with open(output_filename, mode='w', newline='', encoding='utf-8') as f:\n",
        "    writer = csv.writer(f)\n",
        "    writer.writerow([\"TM\", \"VAL\"])  # 헤더 행\n",
        "    writer.writerows(data_rows)\n",
        "\n",
        "print(\"CSV 파일이 '{}' 이름으로 저장되었습니다.\".format(output_filename))\n"
      ]
    }
  ]
}